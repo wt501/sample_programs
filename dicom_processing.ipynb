{
  "cells": [
    {
      "cell_type": "code",
      "execution_count": null,
      "metadata": {
        "id": "YcEPq9vpc7JZ"
      },
      "outputs": [],
      "source": [
        "!pip install pydicom"
      ]
    },
    {
      "cell_type": "code",
      "execution_count": null,
      "metadata": {
        "id": "F6Y7glbYdGDb"
      },
      "outputs": [],
      "source": [
        "import os\n",
        "import numpy as np\n",
        "import cv2\n",
        "import pydicom\n",
        "from pydicom.tag import Tag\n",
        "from matplotlib import pyplot as plt"
      ]
    },
    {
      "cell_type": "code",
      "execution_count": null,
      "metadata": {
        "id": "PZai2bGpdUYR"
      },
      "outputs": [],
      "source": [
        "from google.colab import drive\n",
        "drive.mount(\"/content/drive\")"
      ]
    },
    {
      "cell_type": "code",
      "execution_count": null,
      "metadata": {
        "id": "2eyqb3XOdNxQ"
      },
      "outputs": [],
      "source": [
        "dcm_path = \"drive/MyDrive/dataset/ct_dcmdir/Brain01\"\n",
        "data = pydicom.dcmread(dcm_path)\n",
        "\n",
        "print(data)"
      ]
    },
    {
      "cell_type": "code",
      "execution_count": null,
      "metadata": {
        "id": "en6xlFwfQvt_"
      },
      "outputs": [],
      "source": [
        "pn = data.PatientName\n",
        "wc = data.WindowCenter\n",
        "ww = data.WindowWidth\n",
        "img = data.pixel_array\n",
        "print(f\"Patient Name: {pn}\")\n",
        "print(f\"Window Center: {wc}\")\n",
        "print(f\"Window Width: {ww}\")\n",
        "print(f\"Pixel Array: {img, img.shape}\")"
      ]
    },
    {
      "cell_type": "code",
      "execution_count": null,
      "metadata": {
        "id": "PzvOVF0Bgq10"
      },
      "outputs": [],
      "source": [
        "max = wc + ww / 2\n",
        "min = wc - ww / 2\n",
        "print(f\"max = {max} min = {min}\")\n",
        "\n",
        "plt.imshow(img, cmap=\"gray\", vmax=max, vmin=min)\n",
        "plt.axis(\"off\")\n",
        "plt.show()"
      ]
    },
    {
      "cell_type": "code",
      "execution_count": null,
      "metadata": {
        "id": "hETp1K6diQsb"
      },
      "outputs": [],
      "source": [
        "_wc = 0\n",
        "_ww = 200\n",
        "max = _wc + _ww / 2\n",
        "min = _wc - _ww / 2\n",
        "print(f\"max = {max} min = {min}\")\n",
        "\n",
        "plt.imshow(img, cmap=\"gray\", vmax=max, vmin=min)\n",
        "plt.axis(\"off\")\n",
        "plt.show()"
      ]
    },
    {
      "cell_type": "code",
      "execution_count": null,
      "metadata": {
        "id": "2Rui1yYgmJS8"
      },
      "outputs": [],
      "source": [
        "print(\"SOP Instance UID  :\",Tag(\"SOPInstanceUID\"), data.SOPInstanceUID)\n",
        "print(\"Study Date        :\",Tag(\"StudyDate\"),      data.StudyDate)\n",
        "print(\"Study Time        :\",Tag(\"StudyTime\"),      data.StudyTime)\n",
        "print(\"Modality          :\",Tag(\"Modality\"),       data.Modality)"
      ]
    },
    {
      "cell_type": "code",
      "execution_count": null,
      "metadata": {
        "id": "YAac9nO0rhHN"
      },
      "outputs": [],
      "source": [
        "print(\"Patient Name :\", Tag(\"PatientName\"), data.PatientName)\n",
        "print(\"Patient ID   :\", Tag(\"PatientID\"),   data.PatientID)"
      ]
    },
    {
      "cell_type": "code",
      "execution_count": null,
      "metadata": {
        "id": "Y8IFsmKfry-H"
      },
      "outputs": [],
      "source": [
        "print(\"Body Part Examined :\", Tag(\"BodyPartExamined\"), data.BodyPartExamined)\n",
        "print(\"Slice Thickness    :\", Tag(\"SliceThickness\"), data.SliceThickness)\n",
        "print(\"Convolution Kernel :\", Tag(\"ConvolutionKernel\"), data.ConvolutionKernel)"
      ]
    },
    {
      "cell_type": "code",
      "execution_count": null,
      "metadata": {
        "id": "bRWYaf3vsN0M"
      },
      "outputs": [],
      "source": [
        "print(\"Study Instance UID      :\", Tag(\"StudyInstanceUID\"), data.StudyInstanceUID)\n",
        "print(\"Series Instance UID     :\", Tag(\"SeriesInstanceUID\"), data.SeriesInstanceUID)\n",
        "print(\"Series Number           :\", Tag(\"SeriesNumber\"), data.SeriesNumber)\n",
        "print(\"Image Position (Patient):\", Tag(\"ImagePositionPatient\"), data.ImagePositionPatient)\n",
        "print(\"Acquisition Number      :\", Tag(\"AcquisitionNumber\"), data.AcquisitionNumber)\n",
        "print(\"Instance Number         :\", Tag(\"InstanceNumber\"), data.InstanceNumber)\n",
        "print(\"Slice Location          :\", Tag(\"SliceLocation\"), data.SliceLocation)"
      ]
    },
    {
      "cell_type": "code",
      "execution_count": null,
      "metadata": {
        "id": "YCsZSJPlsfHs"
      },
      "outputs": [],
      "source": [
        "print(\"Photometric Interpretation :\", Tag(\"PhotometricInterpretation\"), data.PhotometricInterpretation)\n",
        "print(\"Rows                       :\", Tag(\"Rows\"), data.Rows)\n",
        "print(\"Columns　　                :\", Tag(\"Columns\"), data.Columns)\n",
        "print(\"Pixel Spacing　　　　　　  :\", Tag(\"PixelSpacing\"), data.PixelSpacing)\n",
        "print(\"Bits Allocated             :\", Tag(\"BitsAllocated\"), data.BitsAllocated)\n",
        "print(\"Bits Stored                :\", Tag(\"BitsStored\"), data.BitsStored)\n",
        "print(\"High Bit                   :\", Tag(\"HighBit\"), data.HighBit)\n",
        "print(\"Pixel Representation       :\", Tag(\"PixelRepresentation\"), data.PixelRepresentation)\n",
        "print(\"Window Center              :\", Tag(\"WindowCenter\"), data.WindowCenter)\n",
        "print(\"Window Width               :\", Tag(\"WindowWidth\"), data.WindowWidth)\n",
        "print(\"Rescale Intercept          :\", Tag(\"RescaleIntercept\"), data.RescaleIntercept)\n",
        "print(\"Rescale Slope              :\", Tag(\"RescaleSlope\"),   data.RescaleSlope)"
      ]
    },
    {
      "cell_type": "code",
      "execution_count": null,
      "metadata": {
        "id": "QqD_SulS6SqG"
      },
      "outputs": [],
      "source": [
        "print(\"Pixel Data:\", data.pixel_array)\n",
        "print(data.pixel_array.shape)"
      ]
    },
    {
      "cell_type": "code",
      "execution_count": null,
      "metadata": {
        "id": "NXlgSjpBtzE-"
      },
      "outputs": [],
      "source": [
        "# 匿名化\n",
        "orgdir = \"drive/My Drive/dataset/ct_dcmdir/\"\n",
        "dstdir = \"drive/My Drive/result/\"\n",
        "\n",
        "if not os.path.isdir(dstdir):\n",
        "    os.mkdir(dstdir)\n",
        "\n",
        "dummy_info = [['00100010', 'no name'],\n",
        "              ['00100020', 'no ptid']]\n",
        "\n",
        "files = os.listdir(orgdir)  # orgdir内のすべてのファイル名を取得\n",
        "print(files)\n",
        "\n",
        "for i, name in enumerate(files):\n",
        "    path = orgdir + name\n",
        "    data = pydicom.dcmread(path)            # DICOM画像の読み込み\n",
        "    for j, info in enumerate(dummy_info):\n",
        "        tag = info[0]\n",
        "        value = info[1]\n",
        "        data[tag].value = value             # 情報の置き換え\n",
        "    save_name = f\"{dstdir}anony_{name}\"     # 保存ファイル名\n",
        "    pydicom.dcmwrite(save_name, data)       # DICOM画像の書き込み\n",
        "    print(data[\"00100010\"])                 # 患者名を表示する"
      ]
    },
    {
      "cell_type": "code",
      "execution_count": null,
      "metadata": {
        "id": "OpHtNCbP303U"
      },
      "outputs": [],
      "source": [
        "# リスケール処理と階調処理\n",
        "dcm_path = \"drive/MyDrive/dataset/ct_dcmdir/Brain01\"\n",
        "data = pydicom.dcmread(dcm_path)\n",
        "\n",
        "wc = data.WindowCenter\n",
        "ww = data.WindowWidth\n",
        "ri = data.RescaleIntercept\n",
        "rs = data.RescaleSlope\n",
        "img = data.pixel_array\n",
        "\n",
        "print(wc, ww, ri, rs, img)\n",
        "\n",
        "ct = img * rs + ri\n",
        "max = wc + ww / 2\n",
        "min = wc - ww / 2\n",
        "\n",
        "# 8 bit\n",
        "res = 255 * (ct - min) / (max - min)\n",
        "res = np.clip(res, 0, 255)\n",
        "cv2.imwrite(\"drive/MyDrive/res_8bit.png\", res)\n",
        "\n",
        "plt.imshow(res, cmap=\"gray\")\n",
        "plt.axis(\"off\")\n",
        "plt.title(\"8bit\")\n",
        "plt.show()\n",
        "\n",
        "# 16 bit\n",
        "res = 65535 * (ct - min) / (max - min)\n",
        "res = np.clip(res, 0, 65535)\n",
        "cv2.imwrite(\"drive/MyDrive/res_16bit.png\", res)\n",
        "\n",
        "plt.imshow(res, cmap=\"gray\")\n",
        "plt.axis(\"off\")\n",
        "plt.title(\"16bit\")\n",
        "plt.show()\n",
        "\n",
        "res = res.astype(np.uint16)\n",
        "cv2.imwrite(\"drive/MyDrive/res_16bit_casted.png\", res)"
      ]
    }
  ],
  "metadata": {
    "colab": {
      "provenance": []
    },
    "kernelspec": {
      "display_name": "Python 3",
      "name": "python3"
    },
    "language_info": {
      "name": "python"
    }
  },
  "nbformat": 4,
  "nbformat_minor": 0
}
